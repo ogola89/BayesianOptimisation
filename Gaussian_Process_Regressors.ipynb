{
  "nbformat": 4,
  "nbformat_minor": 0,
  "metadata": {
    "colab": {
      "provenance": [],
      "authorship_tag": "ABX9TyPIYwhvsm7P2ogNec90+NuE",
      "include_colab_link": true
    },
    "kernelspec": {
      "name": "python3",
      "display_name": "Python 3"
    },
    "language_info": {
      "name": "python"
    }
  },
  "cells": [
    {
      "cell_type": "markdown",
      "metadata": {
        "id": "view-in-github",
        "colab_type": "text"
      },
      "source": [
        "<a href=\"https://colab.research.google.com/github/ogola89/BayesianOptimisation/blob/main/Gaussian_Process_Regressors.ipynb\" target=\"_parent\"><img src=\"https://colab.research.google.com/assets/colab-badge.svg\" alt=\"Open In Colab\"/></a>"
      ]
    },
    {
      "cell_type": "code",
      "execution_count": 1,
      "metadata": {
        "id": "Q7G77-RGodzP"
      },
      "outputs": [],
      "source": [
        "import numpy as np\n",
        "import plotly.graph_objects as go\n",
        "from ipywidgets import interact, widgets"
      ]
    },
    {
      "cell_type": "code",
      "source": [
        "def update_layout_of_graph(fig: go.Figure, title: str='Plot') -> go.Figure:\n",
        "  fig.update_layout(\n",
        "      width = 800,\n",
        "      height = 600,\n",
        "      autosize = False,\n",
        "      plot_bgcolor = 'rgba(0,0,0,0)',\n",
        "      title = title\n",
        "  )\n",
        "\n",
        "  fig.update_layout(\n",
        "      plot_bgcolor = 'rgba(0,0,0,0)',\n",
        "      xaxis_title = 'input values',\n",
        "      yaxis_title = 'output values',\n",
        "      legend = dict(\n",
        "          yanchor = 'top',\n",
        "          y = 0.9,\n",
        "          xanchor = 'right',\n",
        "          x = 0.95\n",
        "      ),\n",
        "      title = {\n",
        "          'x':0.5,\n",
        "          'xanchor':'center'\n",
        "      }\n",
        "  )\n",
        "\n",
        "  fig.update_xaxes(showline=True, linewidth = 1, linecolor='black')\n",
        "  fig.update_xaxes(showline=True, linewidth = 1, linecolor='black')"
      ],
      "metadata": {
        "id": "U1HSWOjMpBlt"
      },
      "execution_count": null,
      "outputs": []
    }
  ]
}